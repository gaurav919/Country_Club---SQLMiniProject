{
  "nbformat": 4,
  "nbformat_minor": 0,
  "metadata": {
    "colab": {
      "name": "Untitled1.ipynb",
      "provenance": [],
      "collapsed_sections": []
    },
    "kernelspec": {
      "name": "python3",
      "display_name": "Python 3"
    },
    "language_info": {
      "name": "python"
    }
  },
  "cells": [
    {
      "cell_type": "code",
      "metadata": {
        "id": "7frVOCVrw5P7"
      },
      "source": [
        "import sqlite3\n",
        "from sqlite3 import Error\n",
        "import pandas as pd"
      ],
      "execution_count": 39,
      "outputs": []
    },
    {
      "cell_type": "code",
      "metadata": {
        "id": "fArfayQoyj3X"
      },
      "source": [
        "def create_connection(db_file):\n",
        "    \"\"\" create a database connection to the SQLite database\n",
        "        specified by the db_file\n",
        "    :param db_file: database file\n",
        "    :return: Connection object or None\n",
        "    \"\"\"\n",
        "    conn = None\n",
        "    try:\n",
        "        conn = sqlite3.connect(db_file)\n",
        "        print(sqlite3.version)\n",
        "    except Error as e:\n",
        "        print(e)\n",
        " \n",
        "    return conn"
      ],
      "execution_count": 40,
      "outputs": []
    },
    {
      "cell_type": "code",
      "metadata": {
        "id": "5EDaaZpXylxJ"
      },
      "source": [
        "def select_all_tasks(conn):\n",
        "    \"\"\"\n",
        "    Query all rows in the tasks table\n",
        "    :param conn: the Connection object\n",
        "    :return:\n",
        "    \"\"\"\n",
        "    cur = conn.cursor()\n",
        "    \n",
        "    query1 = \"\"\"\n",
        "        SELECT *\n",
        "        FROM FACILITIES\n",
        "        \"\"\"\n",
        "    cur.execute(query1)\n",
        " \n",
        "    rows = cur.fetchall()\n",
        " \n",
        "    for row in rows:\n",
        "        print(row)"
      ],
      "execution_count": 41,
      "outputs": []
    },
    {
      "cell_type": "code",
      "metadata": {
        "colab": {
          "base_uri": "https://localhost:8080/"
        },
        "id": "pjt42zj6y8GU",
        "outputId": "767c28b4-ee52-44d9-a577-84953e33155c"
      },
      "source": [
        "def main():\n",
        "    database = \"sqlite_db_pythonsqlite.db\"\n",
        " \n",
        "    # create a database connection\n",
        "    conn = create_connection(database)\n",
        "    with conn: \n",
        "        print(\"2. Query all tasks\")\n",
        "        select_all_tasks(conn)\n",
        " \n",
        " \n",
        "if __name__ == '__main__':\n",
        "    main()"
      ],
      "execution_count": 42,
      "outputs": [
        {
          "output_type": "stream",
          "text": [
            "2.6.0\n",
            "2. Query all tasks\n",
            "(0, 'Tennis Court 1', 5, 25, 10000, 200)\n",
            "(1, 'Tennis Court 2', 5, 25, 8000, 200)\n",
            "(2, 'Badminton Court', 0, 15.5, 4000, 50)\n",
            "(3, 'Table Tennis', 0, 5, 320, 10)\n",
            "(4, 'Massage Room 1', 9.9, 80, 4000, 3000)\n",
            "(5, 'Massage Room 2', 9.9, 80, 4000, 3000)\n",
            "(6, 'Squash Court', 3.5, 17.5, 5000, 80)\n",
            "(7, 'Snooker Table', 0, 5, 450, 15)\n",
            "(8, 'Pool Table', 0, 5, 400, 15)\n"
          ],
          "name": "stdout"
        }
      ]
    },
    {
      "cell_type": "code",
      "metadata": {
        "colab": {
          "base_uri": "https://localhost:8080/"
        },
        "id": "05jVtP1C44Zx",
        "outputId": "8f0d1087-3e5f-4e8a-fba1-511d817f1d45"
      },
      "source": [
        "# 10. Produce a list of facilities with a total revenue less than 1000.\n",
        "# The output of facility name and total revenue, sorted by revenue. Remember\n",
        "# that there's a different cost for guests and members! \n",
        "conn = create_connection(\"sqlite_db_pythonsqlite.db\")\n",
        "cur  = conn.cursor()\n",
        "\n",
        "rs = cur.execute(\"Select  f.name as name , sum(CASE WHEN b.memid = 0 THEN (f.guestcost * b.slots) ELSE (f.membercost * b.slots) END) AS revenue from Bookings as b  Inner join Facilities as f on f.facid = b.facid group by name having revenue <1000 order by revenue \")\n",
        "rows = rs.fetchall()\n",
        "for row in rows:\n",
        "  print(row)\n"
      ],
      "execution_count": 48,
      "outputs": [
        {
          "output_type": "stream",
          "text": [
            "2.6.0\n",
            "('Table Tennis', 180)\n",
            "('Snooker Table', 240)\n",
            "('Pool Table', 270)\n"
          ],
          "name": "stdout"
        }
      ]
    },
    {
      "cell_type": "code",
      "metadata": {
        "colab": {
          "base_uri": "https://localhost:8080/"
        },
        "id": "1f3FX0yOacJh",
        "outputId": "45fa3658-132b-41a5-cb5a-8cf29d2553f4"
      },
      "source": [
        "11. #Produce a report of members and who recommended them in alphabetic surname,firstname order */\n",
        "\n",
        "rs = cur.execute(\"SELECT m1.firstname , m1.surname , m2.firstname || m2.surname as recommended  from Members as m1 left join Members as m2 on m1.recommendedby = m2.memid where m1.memid <>0 and m2.memid<>0 Order by m1.firstname\")\n",
        "rows = rs.fetchall()\n",
        "for row in rows:\n",
        "  print(row)"
      ],
      "execution_count": 57,
      "outputs": [
        {
          "output_type": "stream",
          "text": [
            "('Anna', 'Mackenzie', 'DarrenSmith')\n",
            "('Anne', 'Baker', 'PonderStibbons')\n",
            "('Charles', 'Owen', 'DarrenSmith')\n",
            "('David', 'Jones', 'JaniceJoplette')\n",
            "('David', 'Pinker', 'JemimaFarrell')\n",
            "('Douglas', 'Jones', 'DavidJones')\n",
            "('Erica', 'Crumpet', 'TracySmith')\n",
            "('Florence', 'Bader', 'PonderStibbons')\n",
            "('Gerald', 'Butters', 'DarrenSmith')\n",
            "('Henrietta', 'Rumney', 'MatthewGenting')\n",
            "('Henry', 'Worthington-Smyth', 'TracySmith')\n",
            "('Jack', 'Smith', 'DarrenSmith')\n",
            "('Janice', 'Joplette', 'DarrenSmith')\n",
            "('Joan', 'Coplin', 'TimothyBaker')\n",
            "('John', 'Hunt', 'MillicentPurview')\n",
            "('Matthew', 'Genting', 'GeraldButters')\n",
            "('Millicent', 'Purview', 'TracySmith')\n",
            "('Nancy', 'Dare', 'JaniceJoplette')\n",
            "('Ponder', 'Stibbons', 'BurtonTracy')\n",
            "('Ramnaresh', 'Sarwin', 'FlorenceBader')\n",
            "('Tim', 'Boothe', 'TimRownam')\n",
            "('Timothy', 'Baker', 'JemimaFarrell')\n"
          ],
          "name": "stdout"
        }
      ]
    },
    {
      "cell_type": "code",
      "metadata": {
        "colab": {
          "base_uri": "https://localhost:8080/"
        },
        "id": "tWo96SY8qpgV",
        "outputId": "5f6ee3db-cc1e-460c-d62d-fe43975d9e46"
      },
      "source": [
        "#Find the facilities with their usage by member, but not guests\n",
        "rs = cur.execute(\"SELECT f.name as facility , sum(b.slots) as numberusage from Facilities as f left join Bookings as b on f.facid = b.facid where b.memid <>0 group by f.name\")\n",
        "rows = rs.fetchall()\n",
        "for row in rows:\n",
        "  print(row)"
      ],
      "execution_count": 58,
      "outputs": [
        {
          "output_type": "stream",
          "text": [
            "('Badminton Court', 1086)\n",
            "('Massage Room 1', 884)\n",
            "('Massage Room 2', 54)\n",
            "('Pool Table', 856)\n",
            "('Snooker Table', 860)\n",
            "('Squash Court', 418)\n",
            "('Table Tennis', 794)\n",
            "('Tennis Court 1', 957)\n",
            "('Tennis Court 2', 882)\n"
          ],
          "name": "stdout"
        }
      ]
    },
    {
      "cell_type": "code",
      "metadata": {
        "colab": {
          "base_uri": "https://localhost:8080/"
        },
        "id": "vTwqILXSwxNl",
        "outputId": "76e3969e-ffe8-40a9-e744-853d2c8faa06"
      },
      "source": [
        "# Find the facilities usage by month, but not guests */\n",
        "rs = cur.execute(\"SELECT f.name as facility , strftime('%m',starttime) as month, sum(b.slots) as numberusage from Facilities as f left join Bookings as b on f.facid = b.facid where b.memid <>0 group by f.name , month\")\n",
        "rows = rs.fetchall()\n",
        "for row in rows:\n",
        "  print(row)"
      ],
      "execution_count": 64,
      "outputs": [
        {
          "output_type": "stream",
          "text": [
            "('Badminton Court', '07', 165)\n",
            "('Badminton Court', '08', 414)\n",
            "('Badminton Court', '09', 507)\n",
            "('Massage Room 1', '07', 166)\n",
            "('Massage Room 1', '08', 316)\n",
            "('Massage Room 1', '09', 402)\n",
            "('Massage Room 2', '07', 8)\n",
            "('Massage Room 2', '08', 18)\n",
            "('Massage Room 2', '09', 28)\n",
            "('Pool Table', '07', 110)\n",
            "('Pool Table', '08', 303)\n",
            "('Pool Table', '09', 443)\n",
            "('Snooker Table', '07', 140)\n",
            "('Snooker Table', '08', 316)\n",
            "('Snooker Table', '09', 404)\n",
            "('Squash Court', '07', 50)\n",
            "('Squash Court', '08', 184)\n",
            "('Squash Court', '09', 184)\n",
            "('Table Tennis', '07', 98)\n",
            "('Table Tennis', '08', 296)\n",
            "('Table Tennis', '09', 400)\n",
            "('Tennis Court 1', '07', 201)\n",
            "('Tennis Court 1', '08', 339)\n",
            "('Tennis Court 1', '09', 417)\n",
            "('Tennis Court 2', '07', 123)\n",
            "('Tennis Court 2', '08', 345)\n",
            "('Tennis Court 2', '09', 414)\n"
          ],
          "name": "stdout"
        }
      ]
    }
  ]
}